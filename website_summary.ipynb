{
 "cells": [
  {
   "cell_type": "code",
   "execution_count": 9,
   "id": "3180a290-e1b5-4675-bae2-f61c8d2f5bcf",
   "metadata": {},
   "outputs": [
    {
     "name": "stdout",
     "output_type": "stream",
     "text": [
      "Requirement already satisfied: html2text in c:\\users\\sachi\\llm_rag\\lib\\site-packages (2020.1.16)\n"
     ]
    }
   ],
   "source": [
    "!pip install html2text"
   ]
  },
  {
   "cell_type": "code",
   "execution_count": 6,
   "id": "568baca0-00e0-4d23-8494-94166720b25d",
   "metadata": {},
   "outputs": [],
   "source": [
    "from llama_index import SummaryIndex\n",
    "from llama_index.readers import SimpleWebPageReader"
   ]
  },
  {
   "cell_type": "code",
   "execution_count": 36,
   "id": "17f35229-8567-4808-858b-500a8123d419",
   "metadata": {},
   "outputs": [],
   "source": [
    "documents = SimpleWebPageReader(html_to_text=True).load_data(\n",
    "    [\"https://finnup.in/\"]\n",
    ")"
   ]
  },
  {
   "cell_type": "code",
   "execution_count": 44,
   "id": "8d9898e4-b6eb-448e-9540-14c93d61fc7c",
   "metadata": {},
   "outputs": [],
   "source": [
    "index = SummaryIndex.from_documents(documents)\n",
    "entity = 'Finnup Solutions Private Limited'"
   ]
  },
  {
   "cell_type": "code",
   "execution_count": 45,
   "id": "54b787a3-9582-44fe-b404-e05b184b9689",
   "metadata": {},
   "outputs": [],
   "source": [
    "query_engine = index.as_query_engine()\n",
    "response = query_engine.query(\"What business is\"+entity+\"involved in?\")"
   ]
  },
  {
   "cell_type": "code",
   "execution_count": 46,
   "id": "d9f138f7-f356-443c-b8a9-abba5134fb0f",
   "metadata": {},
   "outputs": [],
   "source": [
    "from IPython.display import Markdown, display"
   ]
  },
  {
   "cell_type": "code",
   "execution_count": 47,
   "id": "8cb6bfd4-3140-4082-971a-3430e2dd4e9d",
   "metadata": {},
   "outputs": [
    {
     "data": {
      "text/markdown": [
       "<b>Finnup Solutions Private Limited is involved in providing opportunities for financial upliftment. They connect lenders and borrowers through their online platform and offer a range of products such as short-term loans, long-term loans, and non-fund based limits. They aim to empower enterprises and help them grow by providing the right financial solutions.</b>"
      ],
      "text/plain": [
       "<IPython.core.display.Markdown object>"
      ]
     },
     "metadata": {},
     "output_type": "display_data"
    }
   ],
   "source": [
    "display(Markdown(f\"<b>{response}</b>\"))"
   ]
  },
  {
   "cell_type": "code",
   "execution_count": 41,
   "id": "cb5c89c1-bf37-445f-8684-acb0f2051289",
   "metadata": {},
   "outputs": [
    {
     "data": {
      "text/markdown": [
       "<b>The founders of Finnup are Rahul Agarwal and Abhishek Agarwal.</b>"
      ],
      "text/plain": [
       "<IPython.core.display.Markdown object>"
      ]
     },
     "metadata": {},
     "output_type": "display_data"
    }
   ],
   "source": [
    "query_engine = index.as_query_engine()\n",
    "response = query_engine.query(\"Who are the founders of\"+entity+\"?\")\n",
    "display(Markdown(f\"<b>{response}</b>\"))"
   ]
  },
  {
   "cell_type": "code",
   "execution_count": 43,
   "id": "82cd2e37-8ea7-4315-84b2-262e2b8a80a2",
   "metadata": {},
   "outputs": [
    {
     "data": {
      "text/markdown": [
       "<b>Finnup is based in Mumbai, Maharashtra, India.</b>"
      ],
      "text/plain": [
       "<IPython.core.display.Markdown object>"
      ]
     },
     "metadata": {},
     "output_type": "display_data"
    }
   ],
   "source": [
    "response = query_engine.query(\"Where is\"+entity+\"based?\")\n",
    "display(Markdown(f\"<b>{response}</b>\"))"
   ]
  },
  {
   "cell_type": "code",
   "execution_count": 32,
   "id": "a6019f0c-4ac3-46d1-8b6c-8207458ef973",
   "metadata": {},
   "outputs": [
    {
     "data": {
      "text/markdown": [
       "<b>Finnup has offices in two locations. The first office is located in Mumbai, Maharashtra with the pincode 400059. The second office is located in Chennai, Tamil Nadu with the pincode 600029.</b>"
      ],
      "text/plain": [
       "<IPython.core.display.Markdown object>"
      ]
     },
     "metadata": {},
     "output_type": "display_data"
    }
   ],
   "source": [
    "response = query_engine.query(\"Where all does Finnup have offices? give the pincodes\")\n",
    "display(Markdown(f\"<b>{response}</b>\"))"
   ]
  },
  {
   "cell_type": "code",
   "execution_count": 35,
   "id": "7a7e648f-71ae-408a-8c0c-3d861f680534",
   "metadata": {},
   "outputs": [
    {
     "data": {
      "text/markdown": [
       "<b>Finnup has offices in two locations. One office is located in Mumbai, Maharashtra with the pincode 400059. The address is Everest Chambers, B-306, Next to Marol Metro Station, Gamdevi, Marol, Andheri East. The other office is located in Chennai, Tamil Nadu with the pincode 600029. The address is 4105, 1st Floor, Wing- IV, Nelson Tower, No.51/117, Nelson manickam road, Rajaram Mehta Nagar, Aminjikarai.</b>"
      ],
      "text/plain": [
       "<IPython.core.display.Markdown object>"
      ]
     },
     "metadata": {},
     "output_type": "display_data"
    }
   ],
   "source": [
    "response = query_engine.query(\"What are the pincodes where Finnup has offices\")\n",
    "display(Markdown(f\"<b>{response}</b>\"))"
   ]
  },
  {
   "cell_type": "code",
   "execution_count": null,
   "id": "7e2450f8-7e0d-49fa-b7f4-cb5759ba04e2",
   "metadata": {},
   "outputs": [],
   "source": []
  }
 ],
 "metadata": {
  "kernelspec": {
   "display_name": "Python 3 (ipykernel)",
   "language": "python",
   "name": "python3"
  },
  "language_info": {
   "codemirror_mode": {
    "name": "ipython",
    "version": 3
   },
   "file_extension": ".py",
   "mimetype": "text/x-python",
   "name": "python",
   "nbconvert_exporter": "python",
   "pygments_lexer": "ipython3",
   "version": "3.9.13"
  }
 },
 "nbformat": 4,
 "nbformat_minor": 5
}
