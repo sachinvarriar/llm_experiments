{
 "cells": [
  {
   "cell_type": "code",
   "execution_count": 9,
   "id": "3180a290-e1b5-4675-bae2-f61c8d2f5bcf",
   "metadata": {},
   "outputs": [
    {
     "name": "stdout",
     "output_type": "stream",
     "text": [
      "Requirement already satisfied: html2text in c:\\users\\sachi\\llm_rag\\lib\\site-packages (2020.1.16)\n"
     ]
    }
   ],
   "source": [
    "!pip install html2text"
   ]
  },
  {
   "cell_type": "code",
   "execution_count": 6,
   "id": "568baca0-00e0-4d23-8494-94166720b25d",
   "metadata": {},
   "outputs": [],
   "source": [
    "from llama_index import SummaryIndex\n",
    "from llama_index.readers import SimpleWebPageReader"
   ]
  },
  {
   "cell_type": "code",
   "execution_count": 15,
   "id": "17f35229-8567-4808-858b-500a8123d419",
   "metadata": {},
   "outputs": [],
   "source": [
    "documents = SimpleWebPageReader(html_to_text=True).load_data(\n",
    "    [\"https://finnup.in/\"]\n",
    ")"
   ]
  },
  {
   "cell_type": "code",
   "execution_count": 16,
   "id": "8d9898e4-b6eb-448e-9540-14c93d61fc7c",
   "metadata": {},
   "outputs": [],
   "source": [
    "index = SummaryIndex.from_documents(documents)"
   ]
  },
  {
   "cell_type": "code",
   "execution_count": 20,
   "id": "54b787a3-9582-44fe-b404-e05b184b9689",
   "metadata": {},
   "outputs": [],
   "source": [
    "query_engine = index.as_query_engine()\n",
    "response = query_engine.query(\"What business is finnup involved in?\")"
   ]
  },
  {
   "cell_type": "code",
   "execution_count": 21,
   "id": "d9f138f7-f356-443c-b8a9-abba5134fb0f",
   "metadata": {},
   "outputs": [],
   "source": [
    "from IPython.display import Markdown, display"
   ]
  },
  {
   "cell_type": "code",
   "execution_count": 22,
   "id": "8cb6bfd4-3140-4082-971a-3430e2dd4e9d",
   "metadata": {},
   "outputs": [
    {
     "data": {
      "text/markdown": [
       "<b>Finnup is involved in the business of providing financial upliftment and connecting lenders and borrowers. They offer a platform for borrowers to access a wide range of investors from public and private sector banks, mutual fund companies, NBFCs, and more. They also provide investment opportunities for lenders and offer services for partners to manage their customers' debt requirements. Additionally, Finnup offers various loan options, such as short-term loans, long-term loans, and non-fund based limits, to meet the funding needs of businesses.</b>"
      ],
      "text/plain": [
       "<IPython.core.display.Markdown object>"
      ]
     },
     "metadata": {},
     "output_type": "display_data"
    }
   ],
   "source": [
    "display(Markdown(f\"<b>{response}</b>\"))"
   ]
  },
  {
   "cell_type": "code",
   "execution_count": null,
   "id": "cb5c89c1-bf37-445f-8684-acb0f2051289",
   "metadata": {},
   "outputs": [],
   "source": []
  }
 ],
 "metadata": {
  "kernelspec": {
   "display_name": "Python 3 (ipykernel)",
   "language": "python",
   "name": "python3"
  },
  "language_info": {
   "codemirror_mode": {
    "name": "ipython",
    "version": 3
   },
   "file_extension": ".py",
   "mimetype": "text/x-python",
   "name": "python",
   "nbconvert_exporter": "python",
   "pygments_lexer": "ipython3",
   "version": "3.9.13"
  }
 },
 "nbformat": 4,
 "nbformat_minor": 5
}
